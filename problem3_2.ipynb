{
 "cells": [
  {
   "cell_type": "markdown",
   "id": "9a8c209a",
   "metadata": {},
   "source": [
    "#### Make one program that reads logfiles from point 1 and displays min, max, median, and avg from sensors value (Temperature and Humidity) every 15 minutes streamed for each room and average sensors value from all rooms. The program should be continuously running until the user stops the process"
   ]
  },
  {
   "cell_type": "code",
   "execution_count": 1,
   "id": "2c7a004f",
   "metadata": {},
   "outputs": [],
   "source": [
    "import sched, time, numpy\n",
    "import pandas as pd"
   ]
  },
  {
   "cell_type": "code",
   "execution_count": null,
   "id": "cccd06db",
   "metadata": {
    "scrolled": true
   },
   "outputs": [
    {
     "name": "stdout",
     "output_type": "stream",
     "text": [
      "------Collecting 15 minutes of sensor data, results will be printed 15 minutes later------\n",
      "\n",
      "\n",
      "Room 1 {mean, min, max, and median} temperature for 15 minutes: {21.167519387400677, 17.787349672007622, 24.96590264195982, 21.509370086073368}\n",
      "Room 2 {mean, min, max, and median} temperature for 15 minutes: {21.57216554989211, 18.692770705149844, 26.092709884073468, 21.27706552513225}\n",
      "Room 3 {mean, min, max, and median} temperature for 15 minutes: {21.504666993922967, 17.573081169430857, 25.93331731363279, 22.143394744307862}\n",
      "Room 1 {mean, min, max, and median} humidity for 15 minutes: {92.23893325292832, 87.16458306813905, 95.38090114906908, 93.2489607551837}\n",
      "Room 2 {mean, min, max, and median} humidity for 15 minutes: {91.87819459786526, 87.42526702043884, 96.94968601576343, 91.73621093030839}\n",
      "Room 3 {mean, min, max, and median} humidity for 15 minutes: {93.8485864644843, 90.48683363739528, 96.79697932460016, 94.1250851993347}\n",
      "\n",
      "Average temperature values for each 15 minutes of streaming of all rooms: 21.41478397707192\n",
      "Average humidity values for each 15 minutes of streaming of all rooms: 92.65523810509262\n",
      "\n",
      "\n",
      "------Waiting for the next 15 minutes------\n",
      "\n",
      "\n",
      "Room 1 {mean, min, max, and median} temperature for 15 minutes: {19.723002368704673, 17.174948951389467, 21.380006291304827, 20.24293998107606}\n",
      "Room 2 {mean, min, max, and median} temperature for 15 minutes: {22.802833121423966, 17.257016521092293, 26.72974138537586, 24.2945907189045}\n",
      "Room 3 {mean, min, max, and median} temperature for 15 minutes: {23.67861847658244, 21.842056816862865, 25.5152861958894, 23.830978219275718}\n",
      "Room 1 {mean, min, max, and median} humidity for 15 minutes: {92.31588745293904, 88.42388476690644, 96.06823134617524, 92.03387217117276}\n",
      "Room 2 {mean, min, max, and median} humidity for 15 minutes: {92.85870708458961, 89.7337500958187, 94.8377530312898, 93.874613319348}\n",
      "Room 3 {mean, min, max, and median} humidity for 15 minutes: {93.08760203480779, 89.79646554761422, 96.78758612479652, 93.4093758025816}\n",
      "\n",
      "Average temperature values for each 15 minutes of streaming of all rooms: 22.06815132223703\n",
      "Average humidity values for each 15 minutes of streaming of all rooms: 92.75406552411215\n",
      "\n",
      "\n",
      "------Waiting for the next 15 minutes------\n",
      "\n",
      "\n"
     ]
    }
   ],
   "source": [
    "print(\"------Collecting 15 minutes of sensor data, results will be printed 15 minutes later------\\n\\n\")\n",
    "\n",
    "counter=0\n",
    "s = sched.scheduler(time.time, time.sleep)\n",
    "def do_something(sc):\n",
    "    global counter\n",
    "    \n",
    "    # read log file\n",
    "    stream_df = pd.read_csv('JSONFiles/stream_log.csv')\n",
    "    # aggregate the values for each 15 minutes of measurements\n",
    "    stream_df['per15minute']=numpy.floor(stream_df['minute']/15)\n",
    "    stream_per15minute_df = stream_df.groupby(['per15minute']).agg({'room1Temp': ['mean', 'min', 'max','median'],'room1Humid': ['mean', 'min', 'max','median'],'room2Temp': ['mean', 'min', 'max','median'],'room2Humid': ['mean', 'min', 'max','median'], 'room3Temp': ['mean', 'min', 'max','median'],'room3Humid': ['mean', 'min', 'max','median'] })\n",
    "    \n",
    "    # print the temperature data for each room\n",
    "    print(\"Room 1 {mean, min, max, and median} temperature for 15 minutes: \"+\"{\"+str(stream_per15minute_df['room1Temp']['mean'][counter])+\", \"+str(stream_per15minute_df['room1Temp']['min'][counter])+\", \"+str(stream_per15minute_df['room1Temp']['max'][counter])+\", \"+str(stream_per15minute_df['room1Temp']['median'][counter])+\"}\")\n",
    "    print(\"Room 2 {mean, min, max, and median} temperature for 15 minutes: \"+\"{\"+str(stream_per15minute_df['room2Temp']['mean'][counter])+\", \"+str(stream_per15minute_df['room2Temp']['min'][counter])+\", \"+str(stream_per15minute_df['room2Temp']['max'][counter])+\", \"+str(stream_per15minute_df['room2Temp']['median'][counter])+\"}\")\n",
    "    print(\"Room 3 {mean, min, max, and median} temperature for 15 minutes: \"+\"{\"+str(stream_per15minute_df['room3Temp']['mean'][counter])+\", \"+str(stream_per15minute_df['room3Temp']['min'][counter])+\", \"+str(stream_per15minute_df['room3Temp']['max'][counter])+\", \"+str(stream_per15minute_df['room3Temp']['median'][counter])+\"}\")\n",
    "    # print the humidity data for each room\n",
    "    print(\"Room 1 {mean, min, max, and median} humidity for 15 minutes: \"+\"{\"+str(stream_per15minute_df['room1Humid']['mean'][counter])+\", \"+str(stream_per15minute_df['room1Humid']['min'][counter])+\", \"+str(stream_per15minute_df['room1Humid']['max'][counter])+\", \"+str(stream_per15minute_df['room1Humid']['median'][counter])+\"}\")\n",
    "    print(\"Room 2 {mean, min, max, and median} humidity for 15 minutes: \"+\"{\"+str(stream_per15minute_df['room2Humid']['mean'][counter])+\", \"+str(stream_per15minute_df['room2Humid']['min'][counter])+\", \"+str(stream_per15minute_df['room2Humid']['max'][counter])+\", \"+str(stream_per15minute_df['room2Humid']['median'][counter])+\"}\")\n",
    "    print(\"Room 3 {mean, min, max, and median} humidity for 15 minutes: \"+\"{\"+str(stream_per15minute_df['room3Humid']['mean'][counter])+\", \"+str(stream_per15minute_df['room3Humid']['min'][counter])+\", \"+str(stream_per15minute_df['room3Humid']['max'][counter])+\", \"+str(stream_per15minute_df['room3Humid']['median'][counter])+\"}\")\n",
    "    \n",
    "    # average temperature and humidity data for all rooms\n",
    "    average_temperature_all_rooms = stream_df.groupby(['per15minute']).mean().loc[:,['room1Temp', 'room2Temp', 'room3Temp']]\n",
    "    average_temperature_all_rooms['mean temperature'] = average_temperature_all_rooms.mean(axis=1)\n",
    "    average_humidity_all_rooms = stream_df.groupby(['per15minute']).mean().loc[:,['room1Humid', 'room2Humid', 'room3Humid']]\n",
    "    average_humidity_all_rooms['mean humidity'] = average_humidity_all_rooms.mean(axis=1)\n",
    "    \n",
    "    print(\"\\nAverage temperature values for each 15 minutes of streaming of all rooms: \"+ str(average_temperature_all_rooms['mean temperature'][counter]))\n",
    "    print(\"Average humidity values for each 15 minutes of streaming of all rooms: \"+ str(average_humidity_all_rooms['mean humidity'][counter]))\n",
    "    print(\"\\n\\n------Waiting for the next 15 minutes------\\n\\n\")\n",
    "    s.enter(15*60, 1, do_something, (sc,))\n",
    "    counter+=1 # counter for every 15 minutes passed\n",
    "    \n",
    "s.enter(15*60, 1, do_something, (s,))\n",
    "s.run()"
   ]
  }
 ],
 "metadata": {
  "kernelspec": {
   "display_name": "Python 3",
   "language": "python",
   "name": "python3"
  },
  "language_info": {
   "codemirror_mode": {
    "name": "ipython",
    "version": 3
   },
   "file_extension": ".py",
   "mimetype": "text/x-python",
   "name": "python",
   "nbconvert_exporter": "python",
   "pygments_lexer": "ipython3",
   "version": "3.8.8"
  }
 },
 "nbformat": 4,
 "nbformat_minor": 5
}
